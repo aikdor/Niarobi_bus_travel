{
 "cells": [
  {
   "cell_type": "markdown",
   "metadata": {},
   "source": [
    "## <font color='red'> Group Members </font>\n",
    "\n",
    "## D`jeff Kanda Nkasahama\n",
    "## Tsoanelo Irene Masilo\n",
    "##  Doreen Atta Aikins\n",
    "##  James Muchninga \n"
   ]
  },
  {
   "cell_type": "markdown",
   "metadata": {},
   "source": [
    "# Traffic Jam in Kenya"
   ]
  },
  {
   "cell_type": "markdown",
   "metadata": {},
   "source": [
    "## Summary of the problem\n",
    "\n",
    "In recent times, the capital city of Kenya, Nairobi, has been experiencing heavy traffic crisis as a result of rapid growth in the number of travellers from a few to thousands each day from neigh-bouring towns for various reasons. To curb the traffic jam situation, accumulated data for the past few months have been made available in order to generate a model that will be used for the predictions of the number of tickets that will be sold for buses into Nairobi from other cites in Kenya."
   ]
  },
  {
   "cell_type": "code",
   "execution_count": 278,
   "metadata": {
    "collapsed": true
   },
   "outputs": [],
   "source": [
    "#Library Importation \n",
    "import numpy as np\n",
    "import pandas as pd\n",
    "from sklearn.ensemble import RandomForestRegressor,GradientBoostingRegressor,AdaBoostRegressor,BaggingRegressor,ExtraTreesRegressor\n",
    "from sklearn.metrics import mean_absolute_error\n",
    "import matplotlib.pyplot as plt\n",
    "import seaborn as sns\n",
    "from sklearn.metrics import mean_absolute_error\n",
    "from sklearn.model_selection import train_test_split\n",
    "from sklearn.preprocessing import StandardScaler "
   ]
  },
  {
   "cell_type": "markdown",
   "metadata": {},
   "source": [
    "## Reflection on the Data and feature engineering.\n",
    "\n",
    "### Loading Data"
   ]
  },
  {
   "cell_type": "code",
   "execution_count": 279,
   "metadata": {
    "collapsed": true
   },
   "outputs": [],
   "source": [
    "data=pd.read_csv('./dataset/train_revised.csv', low_memory=False)"
   ]
  },
  {
   "cell_type": "markdown",
   "metadata": {},
   "source": [
    "### Data description"
   ]
  },
  {
   "cell_type": "code",
   "execution_count": 280,
   "metadata": {
    "collapsed": false
   },
   "outputs": [
    {
     "data": {
      "text/html": [
       "<div>\n",
       "<style scoped>\n",
       "    .dataframe tbody tr th:only-of-type {\n",
       "        vertical-align: middle;\n",
       "    }\n",
       "\n",
       "    .dataframe tbody tr th {\n",
       "        vertical-align: top;\n",
       "    }\n",
       "\n",
       "    .dataframe thead th {\n",
       "        text-align: right;\n",
       "    }\n",
       "</style>\n",
       "<table border=\"1\" class=\"dataframe\">\n",
       "  <thead>\n",
       "    <tr style=\"text-align: right;\">\n",
       "      <th></th>\n",
       "      <th>ride_id</th>\n",
       "      <th>seat_number</th>\n",
       "      <th>payment_method</th>\n",
       "      <th>payment_receipt</th>\n",
       "      <th>travel_date</th>\n",
       "      <th>travel_time</th>\n",
       "      <th>travel_from</th>\n",
       "      <th>travel_to</th>\n",
       "      <th>car_type</th>\n",
       "      <th>max_capacity</th>\n",
       "    </tr>\n",
       "  </thead>\n",
       "  <tbody>\n",
       "    <tr>\n",
       "      <th>count</th>\n",
       "      <td>51645.000000</td>\n",
       "      <td>51645</td>\n",
       "      <td>51645</td>\n",
       "      <td>51645</td>\n",
       "      <td>51645</td>\n",
       "      <td>51645</td>\n",
       "      <td>51645</td>\n",
       "      <td>51645</td>\n",
       "      <td>51645</td>\n",
       "      <td>51645.000000</td>\n",
       "    </tr>\n",
       "    <tr>\n",
       "      <th>unique</th>\n",
       "      <td>NaN</td>\n",
       "      <td>61</td>\n",
       "      <td>2</td>\n",
       "      <td>51645</td>\n",
       "      <td>149</td>\n",
       "      <td>78</td>\n",
       "      <td>17</td>\n",
       "      <td>1</td>\n",
       "      <td>2</td>\n",
       "      <td>NaN</td>\n",
       "    </tr>\n",
       "    <tr>\n",
       "      <th>top</th>\n",
       "      <td>NaN</td>\n",
       "      <td>1</td>\n",
       "      <td>Mpesa</td>\n",
       "      <td>UQ894NMZYR</td>\n",
       "      <td>10-12-17</td>\n",
       "      <td>7:09</td>\n",
       "      <td>Kisii</td>\n",
       "      <td>Nairobi</td>\n",
       "      <td>Bus</td>\n",
       "      <td>NaN</td>\n",
       "    </tr>\n",
       "    <tr>\n",
       "      <th>freq</th>\n",
       "      <td>NaN</td>\n",
       "      <td>2065</td>\n",
       "      <td>51532</td>\n",
       "      <td>1</td>\n",
       "      <td>856</td>\n",
       "      <td>3926</td>\n",
       "      <td>22607</td>\n",
       "      <td>51645</td>\n",
       "      <td>31985</td>\n",
       "      <td>NaN</td>\n",
       "    </tr>\n",
       "    <tr>\n",
       "      <th>mean</th>\n",
       "      <td>10188.645793</td>\n",
       "      <td>NaN</td>\n",
       "      <td>NaN</td>\n",
       "      <td>NaN</td>\n",
       "      <td>NaN</td>\n",
       "      <td>NaN</td>\n",
       "      <td>NaN</td>\n",
       "      <td>NaN</td>\n",
       "      <td>NaN</td>\n",
       "      <td>34.534321</td>\n",
       "    </tr>\n",
       "    <tr>\n",
       "      <th>std</th>\n",
       "      <td>2211.295708</td>\n",
       "      <td>NaN</td>\n",
       "      <td>NaN</td>\n",
       "      <td>NaN</td>\n",
       "      <td>NaN</td>\n",
       "      <td>NaN</td>\n",
       "      <td>NaN</td>\n",
       "      <td>NaN</td>\n",
       "      <td>NaN</td>\n",
       "      <td>18.451193</td>\n",
       "    </tr>\n",
       "    <tr>\n",
       "      <th>min</th>\n",
       "      <td>1442.000000</td>\n",
       "      <td>NaN</td>\n",
       "      <td>NaN</td>\n",
       "      <td>NaN</td>\n",
       "      <td>NaN</td>\n",
       "      <td>NaN</td>\n",
       "      <td>NaN</td>\n",
       "      <td>NaN</td>\n",
       "      <td>NaN</td>\n",
       "      <td>11.000000</td>\n",
       "    </tr>\n",
       "    <tr>\n",
       "      <th>25%</th>\n",
       "      <td>8287.000000</td>\n",
       "      <td>NaN</td>\n",
       "      <td>NaN</td>\n",
       "      <td>NaN</td>\n",
       "      <td>NaN</td>\n",
       "      <td>NaN</td>\n",
       "      <td>NaN</td>\n",
       "      <td>NaN</td>\n",
       "      <td>NaN</td>\n",
       "      <td>11.000000</td>\n",
       "    </tr>\n",
       "    <tr>\n",
       "      <th>50%</th>\n",
       "      <td>10353.000000</td>\n",
       "      <td>NaN</td>\n",
       "      <td>NaN</td>\n",
       "      <td>NaN</td>\n",
       "      <td>NaN</td>\n",
       "      <td>NaN</td>\n",
       "      <td>NaN</td>\n",
       "      <td>NaN</td>\n",
       "      <td>NaN</td>\n",
       "      <td>49.000000</td>\n",
       "    </tr>\n",
       "    <tr>\n",
       "      <th>75%</th>\n",
       "      <td>12029.000000</td>\n",
       "      <td>NaN</td>\n",
       "      <td>NaN</td>\n",
       "      <td>NaN</td>\n",
       "      <td>NaN</td>\n",
       "      <td>NaN</td>\n",
       "      <td>NaN</td>\n",
       "      <td>NaN</td>\n",
       "      <td>NaN</td>\n",
       "      <td>49.000000</td>\n",
       "    </tr>\n",
       "    <tr>\n",
       "      <th>max</th>\n",
       "      <td>20117.000000</td>\n",
       "      <td>NaN</td>\n",
       "      <td>NaN</td>\n",
       "      <td>NaN</td>\n",
       "      <td>NaN</td>\n",
       "      <td>NaN</td>\n",
       "      <td>NaN</td>\n",
       "      <td>NaN</td>\n",
       "      <td>NaN</td>\n",
       "      <td>49.000000</td>\n",
       "    </tr>\n",
       "  </tbody>\n",
       "</table>\n",
       "</div>"
      ],
      "text/plain": [
       "             ride_id seat_number payment_method payment_receipt travel_date  \\\n",
       "count   51645.000000       51645          51645           51645       51645   \n",
       "unique           NaN          61              2           51645         149   \n",
       "top              NaN           1          Mpesa      UQ894NMZYR    10-12-17   \n",
       "freq             NaN        2065          51532               1         856   \n",
       "mean    10188.645793         NaN            NaN             NaN         NaN   \n",
       "std      2211.295708         NaN            NaN             NaN         NaN   \n",
       "min      1442.000000         NaN            NaN             NaN         NaN   \n",
       "25%      8287.000000         NaN            NaN             NaN         NaN   \n",
       "50%     10353.000000         NaN            NaN             NaN         NaN   \n",
       "75%     12029.000000         NaN            NaN             NaN         NaN   \n",
       "max     20117.000000         NaN            NaN             NaN         NaN   \n",
       "\n",
       "       travel_time travel_from travel_to car_type  max_capacity  \n",
       "count        51645       51645     51645    51645  51645.000000  \n",
       "unique          78          17         1        2           NaN  \n",
       "top           7:09       Kisii   Nairobi      Bus           NaN  \n",
       "freq          3926       22607     51645    31985           NaN  \n",
       "mean           NaN         NaN       NaN      NaN     34.534321  \n",
       "std            NaN         NaN       NaN      NaN     18.451193  \n",
       "min            NaN         NaN       NaN      NaN     11.000000  \n",
       "25%            NaN         NaN       NaN      NaN     11.000000  \n",
       "50%            NaN         NaN       NaN      NaN     49.000000  \n",
       "75%            NaN         NaN       NaN      NaN     49.000000  \n",
       "max            NaN         NaN       NaN      NaN     49.000000  "
      ]
     },
     "execution_count": 280,
     "metadata": {},
     "output_type": "execute_result"
    }
   ],
   "source": [
    "data.describe(include='all')"
   ]
  },
  {
   "cell_type": "markdown",
   "metadata": {},
   "source": [
    "### Types of variables"
   ]
  },
  {
   "cell_type": "code",
   "execution_count": 281,
   "metadata": {
    "collapsed": false
   },
   "outputs": [
    {
     "data": {
      "text/plain": [
       "ride_id             int64\n",
       "seat_number        object\n",
       "payment_method     object\n",
       "payment_receipt    object\n",
       "travel_date        object\n",
       "travel_time        object\n",
       "travel_from        object\n",
       "travel_to          object\n",
       "car_type           object\n",
       "max_capacity        int64\n",
       "dtype: object"
      ]
     },
     "execution_count": 281,
     "metadata": {},
     "output_type": "execute_result"
    }
   ],
   "source": [
    "data.dtypes"
   ]
  },
  {
   "cell_type": "markdown",
   "metadata": {},
   "source": [
    "### Checking for missing data"
   ]
  },
  {
   "cell_type": "code",
   "execution_count": 282,
   "metadata": {
    "collapsed": false
   },
   "outputs": [
    {
     "data": {
      "text/plain": [
       "ride_id            0\n",
       "seat_number        0\n",
       "payment_method     0\n",
       "payment_receipt    0\n",
       "travel_date        0\n",
       "travel_time        0\n",
       "travel_from        0\n",
       "travel_to          0\n",
       "car_type           0\n",
       "max_capacity       0\n",
       "dtype: int64"
      ]
     },
     "execution_count": 282,
     "metadata": {},
     "output_type": "execute_result"
    }
   ],
   "source": [
    "data.isnull().sum()"
   ]
  },
  {
   "cell_type": "markdown",
   "metadata": {},
   "source": [
    "There is no missing data in this dataset"
   ]
  },
  {
   "cell_type": "markdown",
   "metadata": {},
   "source": [
    "### Target variable construction and dropping columns"
   ]
  },
  {
   "cell_type": "code",
   "execution_count": 283,
   "metadata": {
    "collapsed": true
   },
   "outputs": [],
   "source": [
    "#Dictionnary of ride_id [ride_id,value]\n",
    "ride_group_dict=data.ride_id.value_counts()"
   ]
  },
  {
   "cell_type": "markdown",
   "metadata": {},
   "source": [
    "The follwing variables are not relevant for this analysis :\n",
    "\n",
    "<ul>\n",
    "    <li>ride_id: unique ID of a vehicle on a specific route on a specific day and time. We want a general prediction but not only for a specific vehicle.<br/>\n",
    "        Especially for this variable, we will remove it later on because the construction of the target variable depends on it.<br/><br/>\n",
    "    </li>\n",
    "    <li>seat_number :seat assigned to ticket. This is related to the ticket for a specific vehicle. it is therefore not relevant<br/><br/></li>\n",
    "    <li>payment_method :Wheter the client pay by Mpesa or Cash does not influence the number of sold ticket<br/><br/></li>\n",
    "    <li>payment_receipt : this is unique for each ticket, we can never encounter two with the same ID. Therefore it is not relevant to predict the number of ticket<br/><br/></li>\n",
    "    <li>travel_to : destination of ride. All rides are to Nairobi. it never change, so it is useless for our prediction<br/><br/></li>\n",
    "</ul>\n",
    "We are going to drop them."
   ]
  },
  {
   "cell_type": "code",
   "execution_count": 284,
   "metadata": {
    "collapsed": true
   },
   "outputs": [],
   "source": [
    "data_prepo=data.drop(['seat_number', 'payment_method', 'payment_receipt', 'travel_to'], axis=1)"
   ]
  },
  {
   "cell_type": "markdown",
   "metadata": {},
   "source": [
    "Since those variables are dropped, we have now some duplicated rows and a mess for index of rows.\n",
    "Let's reorganise the dataset"
   ]
  },
  {
   "cell_type": "code",
   "execution_count": 285,
   "metadata": {
    "collapsed": true
   },
   "outputs": [],
   "source": [
    "data_prepo.drop_duplicates(inplace=True)\n",
    "data_prepo.reset_index(inplace=True,drop=True)"
   ]
  },
  {
   "cell_type": "markdown",
   "metadata": {},
   "source": [
    "#### Creation of target variable"
   ]
  },
  {
   "cell_type": "code",
   "execution_count": 286,
   "metadata": {
    "collapsed": true
   },
   "outputs": [],
   "source": [
    "#Filling the column with 0\n",
    "data_prepo[\"number_of_tickets\"]= np.zeros(len(data_prepo))\n",
    "\n",
    "# Using the dictionnary of ride_id to fill the target variable\n",
    "for i in range(len(data_prepo)):\n",
    "    ride_id = data_prepo.loc[i][\"ride_id\"]\n",
    "    data_prepo.at[i,\"number_of_tickets\"] = ride_group_dict[ride_id]"
   ]
  },
  {
   "cell_type": "markdown",
   "metadata": {},
   "source": [
    "### Feature extraction\n"
   ]
  },
  {
   "cell_type": "code",
   "execution_count": 287,
   "metadata": {
    "collapsed": true
   },
   "outputs": [],
   "source": [
    "def hourtrans(x):\n",
    "    if x[0]=='7':\n",
    "        return 1\n",
    "    return 0\n",
    "\n",
    "def transtravel_from(x):\n",
    "    if x=='Kisii':\n",
    "        return 1\n",
    "    elif x in ['Rongo','Homa']:\n",
    "        return 2\n",
    "    return 0\n",
    "\n",
    "def transmonth(x):\n",
    "    if x in [11,12,1,2,3,4]:\n",
    "        return 1\n",
    "    return 0"
   ]
  },
  {
   "cell_type": "markdown",
   "metadata": {},
   "source": [
    "#### travel_date\n",
    "\n",
    "The categorical variable travel_date has 149 unique values and each record contains the year, the month and  the day.\n",
    "This variable should be splitted because only the month and the day are relevant.\n",
    "\n",
    "Let's see that by visualizing."
   ]
  },
  {
   "cell_type": "code",
   "execution_count": 288,
   "metadata": {
    "collapsed": false
   },
   "outputs": [
    {
     "data": {
      "image/png": "[encoded data removed]",
      "text/plain": [
       "<Figure size 1440x720 with 3 Axes>"
      ]
     },
     "metadata": {
      "needs_background": "light"
     },
     "output_type": "display_data"
    }
   ],
   "source": [
    "data_prepo['travel_date']=pd.to_datetime(data_prepo['travel_date'],infer_datetime_format=True)\n",
    "#Extraction of month year\n",
    "data_prepo['m_y'] = data_prepo['travel_date'].dt.strftime('%Y-%m')\n",
    "\n",
    "#Extraction of year\n",
    "data_prepo['year'] = pd.to_numeric(data_prepo['travel_date'].dt.strftime('%Y'))\n",
    "\n",
    "#Extraction of month\n",
    "data_prepo['m'] = pd.to_numeric(data_prepo['travel_date'].dt.strftime('%m'))\n",
    "\n",
    "#Extraction of month\n",
    "data_prepo['m_g'] = data_prepo['m'].apply(transmonth)\n",
    "\n",
    "#Extraction of day\n",
    "data_prepo['day'] = data_prepo['travel_date'].dt.strftime('%w')\n",
    "#data_prepo['day'] = pd.to_numeric(data_prepo['day'])\n",
    "#Extraction of day\n",
    "data_prepo['dm'] = data_prepo['travel_date'].dt.strftime('%d')\n",
    "\n",
    "\n",
    "fig, axes = plt.subplots(figsize=(20,10),nrows=2, ncols=2)\n",
    "\n",
    "\n",
    "data_prepo['m'].value_counts().sort_index().plot.bar(title='Travel date(M)',ax=axes[0,0])\n",
    "data_prepo['day'].value_counts().sort_index().plot.bar(title='Travel date(D)',ax=axes[0,1])\n",
    "ax_=plt.subplot(212)\n",
    "data_prepo['m_y'].value_counts().sort_index().plot.bar(title='Travel date(Y-M)',ax=ax_)\n",
    "plt.show()"
   ]
  },
  {
   "cell_type": "markdown",
   "metadata": {},
   "source": [
    "We can see from the figure above that most of ticket are sold at the end and the begining of the year.\n",
    "\n",
    "Therefore, we should keep a special look on the month  for the prediction of number of tickets"
   ]
  },
  {
   "cell_type": "markdown",
   "metadata": {},
   "source": [
    "#### travel_time"
   ]
  },
  {
   "cell_type": "code",
   "execution_count": 289,
   "metadata": {
    "collapsed": false
   },
   "outputs": [
    {
     "data": {
      "image/png": "[encoded data removed]",
      "text/plain": [
       "<Figure size 3600x2160 with 1 Axes>"
      ]
     },
     "metadata": {
      "needs_background": "light"
     },
     "output_type": "display_data"
    }
   ],
   "source": [
    "axe=data_prepo['travel_time'].value_counts().plot(kind='bar', ax=None, figsize=(50,30), title='Travel time',fontsize=30)\n",
    "axe.title.set_size(40)\n",
    "plt.show()"
   ]
  },
  {
   "cell_type": "markdown",
   "metadata": {},
   "source": [
    "As we can see it, the hour is very important variable. At 7 by example we have several ticket  for different minutes and the number of ticket is decreasing significantly after or before 7 .\n",
    "\n",
    "Let's extract the hour alone and time in minutes and we will see which one is producing the best performance"
   ]
  },
  {
   "cell_type": "code",
   "execution_count": 290,
   "metadata": {
    "collapsed": true
   },
   "outputs": [],
   "source": [
    "data_prepo['minute_only']=data_prepo[\"travel_time\"].str.split(':').apply(lambda x: int(x[1]))\n",
    "data_prepo['minutes']=data_prepo[\"travel_time\"].str.split(':').apply(lambda x: int(x[0]) * 60 + int(x[1]))\n",
    "data_prepo['hour_only']=data_prepo[\"travel_time\"].str.split(':').apply(lambda x: int(x[0]))\n",
    "#Hour grouped (7 for peak)\n",
    "data_prepo['hour']=data_prepo[\"travel_time\"].str.split(':').apply(hourtrans)"
   ]
  },
  {
   "cell_type": "code",
   "execution_count": 291,
   "metadata": {
    "collapsed": false
   },
   "outputs": [
    {
     "data": {
      "image/png": "[encoded data removed]",
      "text/plain": [
       "<Figure size 720x360 with 1 Axes>"
      ]
     },
     "metadata": {
      "needs_background": "light"
     },
     "output_type": "display_data"
    }
   ],
   "source": [
    "axe=data_prepo['hour_only'].value_counts().sort_index().plot(kind='bar', ax=None, figsize=(10,5), title='Travel time(H)',)\n",
    "axe.title.set_size(10)\n",
    "plt.show()"
   ]
  },
  {
   "cell_type": "markdown",
   "metadata": {},
   "source": [
    "Hour grouped"
   ]
  },
  {
   "cell_type": "code",
   "execution_count": 292,
   "metadata": {
    "collapsed": false
   },
   "outputs": [
    {
     "data": {
      "image/png": "[encoded data removed]",
      "text/plain": [
       "<Figure size 720x360 with 1 Axes>"
      ]
     },
     "metadata": {
      "needs_background": "light"
     },
     "output_type": "display_data"
    }
   ],
   "source": [
    "axe=data_prepo['hour'].value_counts().sort_index().plot(kind='bar', ax=None, figsize=(10,5), title='Travel time(H)',)\n",
    "axe.title.set_size(10)\n",
    "plt.show()"
   ]
  },
  {
   "cell_type": "markdown",
   "metadata": {},
   "source": [
    "### Codification of Categorical variables\n",
    "\n",
    "We have two categorical variables which are : travel_from and car_type.\n",
    "\n",
    "We should codify them so that we can use them for regression model\n",
    "\n",
    "#### travel_from"
   ]
  },
  {
   "cell_type": "code",
   "execution_count": 293,
   "metadata": {
    "collapsed": false
   },
   "outputs": [
    {
     "data": {
      "image/png": "[encoded data removed]",
      "text/plain": [
       "<Figure size 3600x2160 with 1 Axes>"
      ]
     },
     "metadata": {
      "needs_background": "light"
     },
     "output_type": "display_data"
    }
   ],
   "source": [
    "axe=data_prepo['travel_from'].value_counts().plot(kind='bar', ax=None, figsize=(50,30), title='Travel time',fontsize=30)\n",
    "axe.title.set_size(40)\n",
    "plt.show()"
   ]
  },
  {
   "cell_type": "markdown",
   "metadata": {},
   "source": [
    "We can group Kisii, Migori and Homa Bay into one category and all remains in other category  <font color='red'> why do you do this? <font>"
   ]
  },
  {
   "cell_type": "code",
   "execution_count": 294,
   "metadata": {
    "collapsed": true
   },
   "outputs": [],
   "source": [
    "data_prepo['travel_from_g']=pd.to_numeric(data_prepo['travel_from'].apply(transtravel_from))\n",
    "\n",
    "data_prepo[\"travel_from_coded\"] = pd.Categorical(data_prepo[\"travel_from\"])\n",
    "travel_from_categories = data_prepo.travel_from_coded.cat.categories\n",
    "data_prepo[\"travel_from_coded\"] = data_prepo.travel_from_coded.cat.codes"
   ]
  },
  {
   "cell_type": "markdown",
   "metadata": {},
   "source": [
    "#### car_type"
   ]
  },
  {
   "cell_type": "code",
   "execution_count": 295,
   "metadata": {
    "collapsed": true
   },
   "outputs": [],
   "source": [
    "data_prepo[\"car_type_coded\"] = pd.Categorical(data_prepo[\"car_type\"])\n",
    "car_type_categories = data_prepo.car_type_coded.cat.categories\n",
    "data_prepo[\"car_type_coded\"] = data_prepo.car_type_coded.cat.codes"
   ]
  },
  {
   "cell_type": "markdown",
   "metadata": {},
   "source": [
    "We can  now drop ride_id and additionnal town which are not in test data(Keumbu,Kendu Bay)."
   ]
  },
  {
   "cell_type": "code",
   "execution_count": 296,
   "metadata": {
    "collapsed": true
   },
   "outputs": [],
   "source": [
    "#dropping ride_id\n",
    "data_prepo=data_prepo.drop(['ride_id'], axis=1)\n",
    "data_prepo.drop(\n",
    "    data_prepo[data_prepo[\"travel_from\"]==\"Keumbu\"].index,inplace=True)\n",
    "data_prepo.drop(\n",
    "    data_prepo[data_prepo[\"travel_from\"]==\"Kendu Bay\"].index,inplace=True)\n",
    "#Keumbu,Kendu Bay \n",
    "data_prepo.to_csv('train_set_clean.csv', index=False)"
   ]
  },
  {
   "cell_type": "code",
   "execution_count": 297,
   "metadata": {
    "collapsed": false
   },
   "outputs": [
    {
     "data": {
      "text/html": [
       "<div>\n",
       "<style scoped>\n",
       "    .dataframe tbody tr th:only-of-type {\n",
       "        vertical-align: middle;\n",
       "    }\n",
       "\n",
       "    .dataframe tbody tr th {\n",
       "        vertical-align: top;\n",
       "    }\n",
       "\n",
       "    .dataframe thead th {\n",
       "        text-align: right;\n",
       "    }\n",
       "</style>\n",
       "<table border=\"1\" class=\"dataframe\">\n",
       "  <thead>\n",
       "    <tr style=\"text-align: right;\">\n",
       "      <th></th>\n",
       "      <th>max_capacity</th>\n",
       "      <th>number_of_tickets</th>\n",
       "      <th>m_y</th>\n",
       "      <th>year</th>\n",
       "      <th>m</th>\n",
       "      <th>m_g</th>\n",
       "      <th>day</th>\n",
       "      <th>dm</th>\n",
       "      <th>minute_only</th>\n",
       "      <th>minutes</th>\n",
       "      <th>hour_only</th>\n",
       "      <th>hour</th>\n",
       "      <th>travel_from_g</th>\n",
       "      <th>travel_from_coded</th>\n",
       "      <th>car_type_coded</th>\n",
       "    </tr>\n",
       "  </thead>\n",
       "  <tbody>\n",
       "    <tr>\n",
       "      <th>0</th>\n",
       "      <td>49</td>\n",
       "      <td>1.0</td>\n",
       "      <td>2017-10</td>\n",
       "      <td>2017</td>\n",
       "      <td>10</td>\n",
       "      <td>0</td>\n",
       "      <td>2</td>\n",
       "      <td>17</td>\n",
       "      <td>15</td>\n",
       "      <td>435</td>\n",
       "      <td>7</td>\n",
       "      <td>1</td>\n",
       "      <td>0</td>\n",
       "      <td>9</td>\n",
       "      <td>0</td>\n",
       "    </tr>\n",
       "    <tr>\n",
       "      <th>1</th>\n",
       "      <td>49</td>\n",
       "      <td>1.0</td>\n",
       "      <td>2017-11</td>\n",
       "      <td>2017</td>\n",
       "      <td>11</td>\n",
       "      <td>1</td>\n",
       "      <td>0</td>\n",
       "      <td>19</td>\n",
       "      <td>12</td>\n",
       "      <td>432</td>\n",
       "      <td>7</td>\n",
       "      <td>1</td>\n",
       "      <td>0</td>\n",
       "      <td>9</td>\n",
       "      <td>0</td>\n",
       "    </tr>\n",
       "    <tr>\n",
       "      <th>2</th>\n",
       "      <td>49</td>\n",
       "      <td>1.0</td>\n",
       "      <td>2017-11</td>\n",
       "      <td>2017</td>\n",
       "      <td>11</td>\n",
       "      <td>1</td>\n",
       "      <td>0</td>\n",
       "      <td>26</td>\n",
       "      <td>5</td>\n",
       "      <td>425</td>\n",
       "      <td>7</td>\n",
       "      <td>1</td>\n",
       "      <td>0</td>\n",
       "      <td>4</td>\n",
       "      <td>0</td>\n",
       "    </tr>\n",
       "    <tr>\n",
       "      <th>3</th>\n",
       "      <td>49</td>\n",
       "      <td>5.0</td>\n",
       "      <td>2017-11</td>\n",
       "      <td>2017</td>\n",
       "      <td>11</td>\n",
       "      <td>1</td>\n",
       "      <td>1</td>\n",
       "      <td>27</td>\n",
       "      <td>10</td>\n",
       "      <td>430</td>\n",
       "      <td>7</td>\n",
       "      <td>1</td>\n",
       "      <td>0</td>\n",
       "      <td>1</td>\n",
       "      <td>0</td>\n",
       "    </tr>\n",
       "    <tr>\n",
       "      <th>4</th>\n",
       "      <td>49</td>\n",
       "      <td>31.0</td>\n",
       "      <td>2017-11</td>\n",
       "      <td>2017</td>\n",
       "      <td>11</td>\n",
       "      <td>1</td>\n",
       "      <td>1</td>\n",
       "      <td>27</td>\n",
       "      <td>12</td>\n",
       "      <td>432</td>\n",
       "      <td>7</td>\n",
       "      <td>1</td>\n",
       "      <td>0</td>\n",
       "      <td>9</td>\n",
       "      <td>0</td>\n",
       "    </tr>\n",
       "  </tbody>\n",
       "</table>\n",
       "</div>"
      ],
      "text/plain": [
       "   max_capacity  number_of_tickets      m_y  year   m  m_g day  dm  \\\n",
       "0            49                1.0  2017-10  2017  10    0   2  17   \n",
       "1            49                1.0  2017-11  2017  11    1   0  19   \n",
       "2            49                1.0  2017-11  2017  11    1   0  26   \n",
       "3            49                5.0  2017-11  2017  11    1   1  27   \n",
       "4            49               31.0  2017-11  2017  11    1   1  27   \n",
       "\n",
       "   minute_only  minutes  hour_only  hour  travel_from_g  travel_from_coded  \\\n",
       "0           15      435          7     1              0                  9   \n",
       "1           12      432          7     1              0                  9   \n",
       "2            5      425          7     1              0                  4   \n",
       "3           10      430          7     1              0                  1   \n",
       "4           12      432          7     1              0                  9   \n",
       "\n",
       "   car_type_coded  \n",
       "0               0  \n",
       "1               0  \n",
       "2               0  \n",
       "3               0  \n",
       "4               0  "
      ]
     },
     "execution_count": 297,
     "metadata": {},
     "output_type": "execute_result"
    }
   ],
   "source": [
    "data_prepo.drop(['travel_date','travel_time','travel_from','car_type'],axis=1,inplace=True)\n",
    "data_prepo.head()"
   ]
  },
  {
   "cell_type": "markdown",
   "metadata": {},
   "source": [
    "# Data Exploration"
   ]
  },
  {
   "cell_type": "code",
   "execution_count": 298,
   "metadata": {
    "collapsed": false
   },
   "outputs": [
    {
     "data": {
      "image/png": "[encoded data removed]",
      "text/plain": [
       "<Figure size 1440x720 with 1 Axes>"
      ]
     },
     "metadata": {
      "needs_background": "light"
     },
     "output_type": "display_data"
    }
   ],
   "source": [
    "data_prepo.drop(['number_of_tickets'],axis=1).boxplot(figsize=(20,10))\n",
    "plt.title('box plot dataset')\n",
    "plt.show()"
   ]
  },
  {
   "cell_type": "markdown",
   "metadata": {},
   "source": [
    "We can see that there is some outlier espacially for the variable minutes. So the algorithm to choose should be the one which involve such a case"
   ]
  },
  {
   "cell_type": "code",
   "execution_count": 299,
   "metadata": {
    "collapsed": false
   },
   "outputs": [
    {
     "data": {
      "image/png": "[encoded data removed]",
      "text/plain": [
       "<Figure size 720x720 with 2 Axes>"
      ]
     },
     "metadata": {
      "needs_background": "light"
     },
     "output_type": "display_data"
    }
   ],
   "source": [
    "corr = data_prepo.corr()\n",
    "plt.figure(figsize=(10,10))\n",
    "sns.heatmap(corr, xticklabels=corr.columns.values, yticklabels=corr.columns.values)\n",
    "plt.show()"
   ]
  },
  {
   "cell_type": "markdown",
   "metadata": {},
   "source": [
    "### Algorithm \n",
    "\n",
    "As the target variable (number of ticket) is a natural number, we are going to use regression model.\n",
    "This dataset contains some outliers, so the model to chose should be robust.\n",
    "\n",
    "Below we will try some model and describe the best one.\n",
    "\n",
    "\n",
    "### Performance measure\n",
    "\n",
    "Therefore, good performance means using the attributes $\\ x_i\\ $ to generate a prediction that is close to  $y_i$.      For a regression problem where  $y_i$  is a real number(natural number for our case), performance is measured in terms like the mean squared error  ($MSE$)  or the mean absolute error  ($MAE$).\n",
    "\n",
    "We notice that MSE comes out markedly different in magnitude than  $MAE$  and  $RMSE$ (root of MSE). That’s because MSE is in squared units. For that reason, the RMSE and MAE are usually  more usable numbers to calculate. \n",
    "\n",
    "We are planning to submit our solution in Zindi competition which use $MAE$ as measure, so we are going to use $MAE$ here as well."
   ]
  },
  {
   "cell_type": "markdown",
   "metadata": {},
   "source": [
    "# Prediction model"
   ]
  },
  {
   "cell_type": "code",
   "execution_count": 300,
   "metadata": {
    "collapsed": true
   },
   "outputs": [],
   "source": [
    "def pred_split_(X,y,model):\n",
    "    seed = 7\n",
    "    #np.random.seed(seed)\n",
    "    X_train, X_test, y_train, y_test = train_test_split(X, y, test_size=.2,random_state=seed)\n",
    "    model_1 = model\n",
    "    model_1.fit(X_train,y_train)\n",
    "    nt_1_test_set = model_1.predict(X_test)\n",
    "    print (\"MAE (train test split)\",mean_absolute_error(nt_1_test_set,y_test))\n",
    "    return model_1\n",
    "\n",
    "def pred_no_split_(X,y,model):\n",
    "    model = model\n",
    "    model.fit(X,y)\n",
    "    pred_train_set = model.predict(X)\n",
    "    print ('MAE',mean_absolute_error(pred_train_set,y))\n",
    "    return model\n",
    "\n",
    "def pred_and_save(X,keys,file_name,model):\n",
    "    data_test_set_predictions=model.predict(X)\n",
    "    data_dict = {'ride_id': keys, 'number_of_ticket': data_test_set_predictions}\n",
    "    df_predictions = pd.DataFrame(data=data_dict)\n",
    "    df_predictions = df_predictions[['ride_id','number_of_ticket']]\n",
    "    df_predictions.to_csv('preds_test_set{}.csv'.format(file_name), index=False)\n",
    "    return df_predictions\n",
    "\n",
    "def pred_and_save_int(X,keys,file_name,model):\n",
    "    data_test_set_predictions=model.predict(X)\n",
    "    data_dict = {'ride_id': keys, 'number_of_ticket': np.rint(data_test_set_predictions)}\n",
    "    df_predictions = pd.DataFrame(data=data_dict)\n",
    "    df_predictions = df_predictions[['ride_id','number_of_ticket']]\n",
    "    df_predictions.to_csv('preds_test_set{}.csv'.format(file_name), index=False)\n",
    "    return df_predictions\n"
   ]
  },
  {
   "cell_type": "markdown",
   "metadata": {},
   "source": [
    "### Loading test data"
   ]
  },
  {
   "cell_type": "code",
   "execution_count": 301,
   "metadata": {
    "collapsed": true
   },
   "outputs": [],
   "source": [
    "data_test_set = pd.read_csv('./dataset/test_questions.csv', low_memory=False)"
   ]
  },
  {
   "cell_type": "code",
   "execution_count": 302,
   "metadata": {
    "collapsed": true
   },
   "outputs": [],
   "source": [
    "\n",
    "data_test_set['travel_from_g']=pd.to_numeric(data_test_set['travel_from'].apply(transtravel_from))\n",
    "\n",
    "data_test_set['travel_date']=pd.to_datetime(data_test_set['travel_date'],infer_datetime_format=True)\n",
    "\n",
    "#Extraction of month year\n",
    "data_test_set['m_y'] = data_test_set['travel_date'].dt.strftime('%Y-%m')\n",
    "\n",
    "\n",
    "#Extraction of year\n",
    "data_test_set['year'] = pd.to_numeric(data_test_set['travel_date'].dt.strftime('%Y'))\n",
    "\n",
    "\n",
    "#Extraction of month\n",
    "data_test_set['m'] = pd.to_numeric(data_test_set['travel_date'].dt.strftime('%m'))\n",
    "\n",
    "#Extraction of month group\n",
    "data_test_set['m_g'] = data_test_set['m'].apply(transmonth)\n",
    "\n",
    "#Extraction of day\n",
    "data_test_set['day'] = pd.to_numeric(data_test_set['travel_date'].dt.strftime('%w'))\n",
    "data_test_set['dm'] = pd.to_numeric(data_test_set['travel_date'].dt.strftime('%d'))\n",
    "\n",
    "# Time extration\n",
    "data_test_set['minute_only']=data_test_set[\"travel_time\"].str.split(':').apply(lambda x: int(x[1]))\n",
    "data_test_set['minutes']=data_test_set[\"travel_time\"].str.split(':').apply(lambda x: int(x[0]) * 60 + int(x[1]))\n",
    "data_test_set['hour_only']=data_test_set[\"travel_time\"].str.split(':').apply(lambda x: int(x[0]))\n",
    "data_test_set['hour']=data_test_set[\"travel_time\"].str.split(':').apply(hourtrans)\n",
    "\n",
    "#Categorical variable coding\n",
    "data_test_set[\"car_type_coded\"] = pd.Categorical(data_test_set[\"car_type\"], categories=car_type_categories)\n",
    "data_test_set[\"car_type_coded\"] = data_test_set.car_type_coded.cat.codes\n",
    "\n",
    "data_test_set[\"travel_from_coded\"] = pd.Categorical(data_test_set[\"travel_from\"], categories=travel_from_categories)\n",
    "data_test_set[\"travel_from_coded\"] = data_test_set.travel_from_coded.cat.codes\n",
    "# Dropping unnecessary variables\n",
    "keys=data_test_set['ride_id']\n",
    "data_test_set.drop(['ride_id','travel_date','travel_time','travel_from','travel_to','car_type'],axis=1,inplace=True)\n",
    "#data_test_set.to_csv('test_set{}.csv'.format('5'), index=False)\n"
   ]
  },
  {
   "cell_type": "markdown",
   "metadata": {},
   "source": [
    "### Building different model"
   ]
  },
  {
   "cell_type": "code",
   "execution_count": 303,
   "metadata": {
    "collapsed": true
   },
   "outputs": [],
   "source": [
    "#Initialistion of list of models and df\n",
    "model=[]\n",
    "model_=[]\n",
    "df=[]\n",
    "df_=[]"
   ]
  },
  {
   "cell_type": "markdown",
   "metadata": {},
   "source": [
    "#### Random Forest Regressor\n",
    "\n",
    "Random forests is one of ensemble learning methode using decision trees. It generates its sequence of models by training them on subsets of the data. The subsets are drawn at random from the full training set. One way in which the subset is selected is to randomly sample rows with replacement. The other random element is that the training sets for the individual trees in the random forests ensemble don’t incorporate all the attributes but take a random subset of the attributes also. That why it has an advantage with wide sparse attribute spaces.\n",
    "\n",
    "\n",
    "This Algorithm give us best result that others in term of $MAE$\n",
    "\n",
    "<table>\n",
    "    <tr><th>Algo</th><th>MAE</th><th>MAE(Zindi)</th></tr>\n",
    "    <tr><td>RandomForestRegressor</td><td>3.52</td><td>3.77</td></tr>\n",
    "    <tr><td>GradientBoostingRegressor</td><td>3.57</td><td>3.80</td></tr>\n",
    "    <tr><td>GaussianProcessRegressor</td><td>3.71</td><td>4.01</td></tr>\n",
    "</table>\n",
    "\n",
    "RandomForestRegressor give us the best result because on unknown data, MAE is only 3.77.\n"
   ]
  },
  {
   "cell_type": "code",
   "execution_count": 304,
   "metadata": {
    "collapsed": false
   },
   "outputs": [
    {
     "name": "stdout",
     "output_type": "stream",
     "text": [
      "MAE 3.418882466281311\n",
      "MAE (train test split) 3.5243258426966286\n"
     ]
    }
   ],
   "source": [
    "from sklearn.ensemble import RandomForestRegressor\n",
    "def getmodel():\n",
    "    kernel = None\n",
    "    return RandomForestRegressor(\n",
    "        n_estimators=50, \n",
    "        criterion='mae', \n",
    "        max_depth=None,\n",
    "        min_samples_split=2, \n",
    "        min_samples_leaf=1, \n",
    "        min_weight_fraction_leaf=0.0,\n",
    "        max_features='auto', \n",
    "        max_leaf_nodes=None, \n",
    "        min_impurity_decrease=0.0,\n",
    "        min_impurity_split=None, \n",
    "        bootstrap=True, \n",
    "        oob_score=False, \n",
    "        n_jobs=None, \n",
    "        random_state=None, \n",
    "        verbose=0,\n",
    "        warm_start=False)\n",
    "\n",
    "model_num=2\n",
    "index=[#'year',\n",
    "       #'m',\n",
    "       #'m_g',\n",
    "       #'day'\n",
    "       #'dm',\n",
    "       #\"hour_only\",\n",
    "       \"hour\",\n",
    "       #\"minutes_only\",\n",
    "       'minutes',\n",
    "       \"travel_from_coded\",\n",
    "       #'travel_from_g',\n",
    "       \"car_type_coded\",\n",
    "       'max_capacity'\n",
    "      ]\n",
    "\n",
    "\n",
    "\n",
    "X= data_prepo.filter(index, axis=1)\n",
    "y = data_prepo.number_of_tickets\n",
    "X_test=data_test_set.filter(index, axis=1)\n",
    "model.append(pred_no_split_(X,y,getmodel()))\n",
    "model_.append(pred_split_(X,y,getmodel()))\n",
    "\n",
    "\n",
    "df.append(pred_and_save(X_test,keys,model_num,model[len(model)-1]))\n",
    "df_.append(pred_and_save(X_test,keys,'_%s'%(model_num),model_[len(model_)-1]))\n",
    "\n",
    "df.append(pred_and_save_int(X_test,keys,\"int_%s\"%(model_num),model[len(model)-1]))\n",
    "df_.append(pred_and_save_int(X_test,keys,'int__%s'%(model_num),model_[len(model_)-1]))"
   ]
  },
  {
   "cell_type": "markdown",
   "metadata": {},
   "source": [
    "#### Gradient Boosting Regressor"
   ]
  },
  {
   "cell_type": "code",
   "execution_count": 305,
   "metadata": {
    "collapsed": false
   },
   "outputs": [
    {
     "name": "stdout",
     "output_type": "stream",
     "text": [
      "MAE 3.499416046672325\n",
      "MAE (train test split) 3.5753540502845773\n"
     ]
    }
   ],
   "source": [
    "from sklearn.ensemble import GradientBoostingRegressor\n",
    "def getmodel():\n",
    "    kernel = None\n",
    "    return GradientBoostingRegressor(\n",
    "        loss='lad', \n",
    "        learning_rate=0.1, \n",
    "        n_estimators=20, \n",
    "        subsample=1.0, \n",
    "        criterion='mae', \n",
    "        min_samples_split=2, \n",
    "        min_samples_leaf=1, \n",
    "        min_weight_fraction_leaf=0.0,\n",
    "        max_depth=100, \n",
    "        min_impurity_decrease=0.0, \n",
    "        min_impurity_split=None, \n",
    "        init=None, \n",
    "        random_state=None, \n",
    "        max_features=None, \n",
    "        alpha=0.9, verbose=0, \n",
    "        max_leaf_nodes=None, \n",
    "        warm_start=True, \n",
    "        presort='auto', \n",
    "        validation_fraction=0.2, \n",
    "        n_iter_no_change=None, \n",
    "        tol=0.000001)\n",
    "\n",
    "model_num=1\n",
    "index=[#'year',\n",
    "       #'m',\n",
    "       #'m_g',\n",
    "       #'day'\n",
    "       #'dm',\n",
    "       #\"hour_only\",\n",
    "       \"hour\",\n",
    "       #\"minutes_only\",\n",
    "       'minutes',\n",
    "       \"travel_from_coded\",\n",
    "       #'travel_from_g',\n",
    "       \"car_type_coded\",\n",
    "       'max_capacity'\n",
    "      ]\n",
    "\n",
    "\n",
    "\n",
    "X= data_prepo.filter(index, axis=1)\n",
    "y = data_prepo.number_of_tickets\n",
    "X_test=data_test_set.filter(index, axis=1)\n",
    "model.append(pred_no_split_(X,y,getmodel()))\n",
    "model_.append(pred_split_(X,y,getmodel()))\n",
    "\n",
    "\n",
    "df.append(pred_and_save(X_test,keys,model_num,model[len(model)-1]))\n",
    "df_.append(pred_and_save(X_test,keys,'_%s'%(model_num),model_[len(model_)-1]))\n",
    "\n",
    "df.append(pred_and_save_int(X_test,keys,\"int_%s\"%(model_num),model[len(model)-1]))\n",
    "df_.append(pred_and_save_int(X_test,keys,'int__%s'%(model_num),model_[len(model_)-1]))"
   ]
  },
  {
   "cell_type": "markdown",
   "metadata": {},
   "source": [
    "#### Gaussian Process Regressor"
   ]
  },
  {
   "cell_type": "code",
   "execution_count": 306,
   "metadata": {
    "collapsed": false
   },
   "outputs": [
    {
     "name": "stdout",
     "output_type": "stream",
     "text": [
      "MAE 3.6309914645550263\n",
      "MAE (train test split) 3.7168515813723806\n"
     ]
    }
   ],
   "source": [
    "from sklearn.gaussian_process import GaussianProcessRegressor\n",
    "from sklearn.gaussian_process.kernels import DotProduct, WhiteKernel\n",
    "\n",
    "def getmodel():\n",
    "    kernel = None\n",
    "    return GaussianProcessRegressor(\n",
    "    kernel=kernel, \n",
    "    alpha=1e-10, \n",
    "    optimizer='fmin_l_bfgs_b', \n",
    "    n_restarts_optimizer=0,\n",
    "    normalize_y=False, \n",
    "    copy_X_train=True, \n",
    "    random_state=None)\n",
    "\n",
    "model_num=3\n",
    "index=[#'year',\n",
    "       #'m',\n",
    "       #'m_g',\n",
    "       #'day'\n",
    "       #'dm',\n",
    "       #\"hour_only\",\n",
    "       \"hour\",\n",
    "       #\"minutes_only\",\n",
    "       'minutes',\n",
    "       \"travel_from_coded\",\n",
    "       #'travel_from_g',\n",
    "       \"car_type_coded\",\n",
    "       'max_capacity'\n",
    "      ]\n",
    "\n",
    "\n",
    "X= data_prepo.filter(index, axis=1)\n",
    "y = data_prepo.number_of_tickets\n",
    "X_test=data_test_set.filter(index, axis=1)\n",
    "model.append(pred_no_split_(X,y,getmodel()))\n",
    "model_.append(pred_split_(X,y,getmodel()))\n",
    "\n",
    "\n",
    "df.append(pred_and_save(X_test,keys,model_num,model[len(model)-1]))\n",
    "df_.append(pred_and_save(X_test,keys,'_%s'%(model_num),model_[len(model_)-1]))\n",
    "\n",
    "df.append(pred_and_save_int(X_test,keys,\"int_%s\"%(model_num),model[len(model)-1]))\n",
    "df_.append(pred_and_save_int(X_test,keys,'int__%s'%(model_num),model_[len(model_)-1]))"
   ]
  },
  {
   "cell_type": "code",
   "execution_count": 307,
   "metadata": {
    "collapsed": false
   },
   "outputs": [
    {
     "data": {
      "text/html": [
       "<div>\n",
       "<style scoped>\n",
       "    .dataframe tbody tr th:only-of-type {\n",
       "        vertical-align: middle;\n",
       "    }\n",
       "\n",
       "    .dataframe tbody tr th {\n",
       "        vertical-align: top;\n",
       "    }\n",
       "\n",
       "    .dataframe thead th {\n",
       "        text-align: right;\n",
       "    }\n",
       "</style>\n",
       "<table border=\"1\" class=\"dataframe\">\n",
       "  <thead>\n",
       "    <tr style=\"text-align: right;\">\n",
       "      <th></th>\n",
       "      <th>number_of_ticket</th>\n",
       "      <th>number_of_ticket</th>\n",
       "      <th>number_of_ticket</th>\n",
       "      <th>number_of_ticket</th>\n",
       "      <th>number_of_ticket</th>\n",
       "      <th>number_of_ticket</th>\n",
       "    </tr>\n",
       "  </thead>\n",
       "  <tbody>\n",
       "    <tr>\n",
       "      <th>0</th>\n",
       "      <td>5.0</td>\n",
       "      <td>5.0</td>\n",
       "      <td>3.0</td>\n",
       "      <td>2.0</td>\n",
       "      <td>6.0</td>\n",
       "      <td>6.0</td>\n",
       "    </tr>\n",
       "    <tr>\n",
       "      <th>1</th>\n",
       "      <td>6.0</td>\n",
       "      <td>7.0</td>\n",
       "      <td>7.0</td>\n",
       "      <td>7.0</td>\n",
       "      <td>6.0</td>\n",
       "      <td>8.0</td>\n",
       "    </tr>\n",
       "    <tr>\n",
       "      <th>2</th>\n",
       "      <td>1.0</td>\n",
       "      <td>1.0</td>\n",
       "      <td>2.0</td>\n",
       "      <td>2.0</td>\n",
       "      <td>2.0</td>\n",
       "      <td>2.0</td>\n",
       "    </tr>\n",
       "    <tr>\n",
       "      <th>3</th>\n",
       "      <td>10.0</td>\n",
       "      <td>9.0</td>\n",
       "      <td>10.0</td>\n",
       "      <td>10.0</td>\n",
       "      <td>8.0</td>\n",
       "      <td>8.0</td>\n",
       "    </tr>\n",
       "    <tr>\n",
       "      <th>4</th>\n",
       "      <td>10.0</td>\n",
       "      <td>10.0</td>\n",
       "      <td>10.0</td>\n",
       "      <td>10.0</td>\n",
       "      <td>9.0</td>\n",
       "      <td>9.0</td>\n",
       "    </tr>\n",
       "    <tr>\n",
       "      <th>5</th>\n",
       "      <td>4.0</td>\n",
       "      <td>5.0</td>\n",
       "      <td>2.0</td>\n",
       "      <td>2.0</td>\n",
       "      <td>5.0</td>\n",
       "      <td>5.0</td>\n",
       "    </tr>\n",
       "    <tr>\n",
       "      <th>6</th>\n",
       "      <td>10.0</td>\n",
       "      <td>9.0</td>\n",
       "      <td>9.0</td>\n",
       "      <td>9.0</td>\n",
       "      <td>8.0</td>\n",
       "      <td>8.0</td>\n",
       "    </tr>\n",
       "    <tr>\n",
       "      <th>7</th>\n",
       "      <td>7.0</td>\n",
       "      <td>6.0</td>\n",
       "      <td>6.0</td>\n",
       "      <td>6.0</td>\n",
       "      <td>9.0</td>\n",
       "      <td>9.0</td>\n",
       "    </tr>\n",
       "    <tr>\n",
       "      <th>8</th>\n",
       "      <td>9.0</td>\n",
       "      <td>9.0</td>\n",
       "      <td>9.0</td>\n",
       "      <td>9.0</td>\n",
       "      <td>9.0</td>\n",
       "      <td>8.0</td>\n",
       "    </tr>\n",
       "    <tr>\n",
       "      <th>9</th>\n",
       "      <td>9.0</td>\n",
       "      <td>9.0</td>\n",
       "      <td>9.0</td>\n",
       "      <td>9.0</td>\n",
       "      <td>9.0</td>\n",
       "      <td>8.0</td>\n",
       "    </tr>\n",
       "    <tr>\n",
       "      <th>10</th>\n",
       "      <td>2.0</td>\n",
       "      <td>3.0</td>\n",
       "      <td>2.0</td>\n",
       "      <td>2.0</td>\n",
       "      <td>1.0</td>\n",
       "      <td>1.0</td>\n",
       "    </tr>\n",
       "    <tr>\n",
       "      <th>11</th>\n",
       "      <td>9.0</td>\n",
       "      <td>9.0</td>\n",
       "      <td>9.0</td>\n",
       "      <td>9.0</td>\n",
       "      <td>8.0</td>\n",
       "      <td>8.0</td>\n",
       "    </tr>\n",
       "    <tr>\n",
       "      <th>12</th>\n",
       "      <td>5.0</td>\n",
       "      <td>5.0</td>\n",
       "      <td>3.0</td>\n",
       "      <td>2.0</td>\n",
       "      <td>6.0</td>\n",
       "      <td>6.0</td>\n",
       "    </tr>\n",
       "    <tr>\n",
       "      <th>13</th>\n",
       "      <td>9.0</td>\n",
       "      <td>9.0</td>\n",
       "      <td>9.0</td>\n",
       "      <td>9.0</td>\n",
       "      <td>8.0</td>\n",
       "      <td>8.0</td>\n",
       "    </tr>\n",
       "    <tr>\n",
       "      <th>14</th>\n",
       "      <td>10.0</td>\n",
       "      <td>10.0</td>\n",
       "      <td>10.0</td>\n",
       "      <td>9.0</td>\n",
       "      <td>9.0</td>\n",
       "      <td>9.0</td>\n",
       "    </tr>\n",
       "    <tr>\n",
       "      <th>15</th>\n",
       "      <td>10.0</td>\n",
       "      <td>10.0</td>\n",
       "      <td>10.0</td>\n",
       "      <td>10.0</td>\n",
       "      <td>9.0</td>\n",
       "      <td>9.0</td>\n",
       "    </tr>\n",
       "    <tr>\n",
       "      <th>16</th>\n",
       "      <td>1.0</td>\n",
       "      <td>2.0</td>\n",
       "      <td>2.0</td>\n",
       "      <td>4.0</td>\n",
       "      <td>1.0</td>\n",
       "      <td>1.0</td>\n",
       "    </tr>\n",
       "    <tr>\n",
       "      <th>17</th>\n",
       "      <td>10.0</td>\n",
       "      <td>9.0</td>\n",
       "      <td>9.0</td>\n",
       "      <td>9.0</td>\n",
       "      <td>5.0</td>\n",
       "      <td>5.0</td>\n",
       "    </tr>\n",
       "    <tr>\n",
       "      <th>18</th>\n",
       "      <td>9.0</td>\n",
       "      <td>9.0</td>\n",
       "      <td>9.0</td>\n",
       "      <td>9.0</td>\n",
       "      <td>5.0</td>\n",
       "      <td>5.0</td>\n",
       "    </tr>\n",
       "    <tr>\n",
       "      <th>19</th>\n",
       "      <td>7.0</td>\n",
       "      <td>8.0</td>\n",
       "      <td>4.0</td>\n",
       "      <td>3.0</td>\n",
       "      <td>6.0</td>\n",
       "      <td>7.0</td>\n",
       "    </tr>\n",
       "    <tr>\n",
       "      <th>20</th>\n",
       "      <td>8.0</td>\n",
       "      <td>8.0</td>\n",
       "      <td>8.0</td>\n",
       "      <td>9.0</td>\n",
       "      <td>6.0</td>\n",
       "      <td>7.0</td>\n",
       "    </tr>\n",
       "    <tr>\n",
       "      <th>21</th>\n",
       "      <td>5.0</td>\n",
       "      <td>6.0</td>\n",
       "      <td>5.0</td>\n",
       "      <td>6.0</td>\n",
       "      <td>5.0</td>\n",
       "      <td>6.0</td>\n",
       "    </tr>\n",
       "    <tr>\n",
       "      <th>22</th>\n",
       "      <td>8.0</td>\n",
       "      <td>7.0</td>\n",
       "      <td>8.0</td>\n",
       "      <td>8.0</td>\n",
       "      <td>7.0</td>\n",
       "      <td>7.0</td>\n",
       "    </tr>\n",
       "    <tr>\n",
       "      <th>23</th>\n",
       "      <td>5.0</td>\n",
       "      <td>5.0</td>\n",
       "      <td>3.0</td>\n",
       "      <td>2.0</td>\n",
       "      <td>6.0</td>\n",
       "      <td>6.0</td>\n",
       "    </tr>\n",
       "    <tr>\n",
       "      <th>24</th>\n",
       "      <td>6.0</td>\n",
       "      <td>5.0</td>\n",
       "      <td>5.0</td>\n",
       "      <td>5.0</td>\n",
       "      <td>6.0</td>\n",
       "      <td>6.0</td>\n",
       "    </tr>\n",
       "    <tr>\n",
       "      <th>25</th>\n",
       "      <td>2.0</td>\n",
       "      <td>3.0</td>\n",
       "      <td>2.0</td>\n",
       "      <td>2.0</td>\n",
       "      <td>4.0</td>\n",
       "      <td>5.0</td>\n",
       "    </tr>\n",
       "    <tr>\n",
       "      <th>26</th>\n",
       "      <td>1.0</td>\n",
       "      <td>1.0</td>\n",
       "      <td>2.0</td>\n",
       "      <td>2.0</td>\n",
       "      <td>4.0</td>\n",
       "      <td>3.0</td>\n",
       "    </tr>\n",
       "    <tr>\n",
       "      <th>27</th>\n",
       "      <td>1.0</td>\n",
       "      <td>1.0</td>\n",
       "      <td>2.0</td>\n",
       "      <td>2.0</td>\n",
       "      <td>2.0</td>\n",
       "      <td>2.0</td>\n",
       "    </tr>\n",
       "    <tr>\n",
       "      <th>28</th>\n",
       "      <td>12.0</td>\n",
       "      <td>12.0</td>\n",
       "      <td>11.0</td>\n",
       "      <td>11.0</td>\n",
       "      <td>14.0</td>\n",
       "      <td>15.0</td>\n",
       "    </tr>\n",
       "    <tr>\n",
       "      <th>29</th>\n",
       "      <td>2.0</td>\n",
       "      <td>1.0</td>\n",
       "      <td>2.0</td>\n",
       "      <td>2.0</td>\n",
       "      <td>4.0</td>\n",
       "      <td>4.0</td>\n",
       "    </tr>\n",
       "    <tr>\n",
       "      <th>...</th>\n",
       "      <td>...</td>\n",
       "      <td>...</td>\n",
       "      <td>...</td>\n",
       "      <td>...</td>\n",
       "      <td>...</td>\n",
       "      <td>...</td>\n",
       "    </tr>\n",
       "    <tr>\n",
       "      <th>1081</th>\n",
       "      <td>3.0</td>\n",
       "      <td>3.0</td>\n",
       "      <td>3.0</td>\n",
       "      <td>2.0</td>\n",
       "      <td>0.0</td>\n",
       "      <td>0.0</td>\n",
       "    </tr>\n",
       "    <tr>\n",
       "      <th>1082</th>\n",
       "      <td>3.0</td>\n",
       "      <td>3.0</td>\n",
       "      <td>3.0</td>\n",
       "      <td>2.0</td>\n",
       "      <td>2.0</td>\n",
       "      <td>2.0</td>\n",
       "    </tr>\n",
       "    <tr>\n",
       "      <th>1083</th>\n",
       "      <td>19.0</td>\n",
       "      <td>18.0</td>\n",
       "      <td>18.0</td>\n",
       "      <td>15.0</td>\n",
       "      <td>12.0</td>\n",
       "      <td>12.0</td>\n",
       "    </tr>\n",
       "    <tr>\n",
       "      <th>1084</th>\n",
       "      <td>2.0</td>\n",
       "      <td>2.0</td>\n",
       "      <td>2.0</td>\n",
       "      <td>2.0</td>\n",
       "      <td>2.0</td>\n",
       "      <td>2.0</td>\n",
       "    </tr>\n",
       "    <tr>\n",
       "      <th>1085</th>\n",
       "      <td>19.0</td>\n",
       "      <td>19.0</td>\n",
       "      <td>18.0</td>\n",
       "      <td>18.0</td>\n",
       "      <td>19.0</td>\n",
       "      <td>19.0</td>\n",
       "    </tr>\n",
       "    <tr>\n",
       "      <th>1086</th>\n",
       "      <td>30.0</td>\n",
       "      <td>30.0</td>\n",
       "      <td>22.0</td>\n",
       "      <td>23.0</td>\n",
       "      <td>17.0</td>\n",
       "      <td>17.0</td>\n",
       "    </tr>\n",
       "    <tr>\n",
       "      <th>1087</th>\n",
       "      <td>8.0</td>\n",
       "      <td>8.0</td>\n",
       "      <td>8.0</td>\n",
       "      <td>7.0</td>\n",
       "      <td>5.0</td>\n",
       "      <td>6.0</td>\n",
       "    </tr>\n",
       "    <tr>\n",
       "      <th>1088</th>\n",
       "      <td>23.0</td>\n",
       "      <td>22.0</td>\n",
       "      <td>24.0</td>\n",
       "      <td>18.0</td>\n",
       "      <td>21.0</td>\n",
       "      <td>20.0</td>\n",
       "    </tr>\n",
       "    <tr>\n",
       "      <th>1089</th>\n",
       "      <td>7.0</td>\n",
       "      <td>7.0</td>\n",
       "      <td>4.0</td>\n",
       "      <td>3.0</td>\n",
       "      <td>5.0</td>\n",
       "      <td>5.0</td>\n",
       "    </tr>\n",
       "    <tr>\n",
       "      <th>1090</th>\n",
       "      <td>9.0</td>\n",
       "      <td>10.0</td>\n",
       "      <td>8.0</td>\n",
       "      <td>9.0</td>\n",
       "      <td>6.0</td>\n",
       "      <td>6.0</td>\n",
       "    </tr>\n",
       "    <tr>\n",
       "      <th>1091</th>\n",
       "      <td>13.0</td>\n",
       "      <td>13.0</td>\n",
       "      <td>12.0</td>\n",
       "      <td>11.0</td>\n",
       "      <td>8.0</td>\n",
       "      <td>8.0</td>\n",
       "    </tr>\n",
       "    <tr>\n",
       "      <th>1092</th>\n",
       "      <td>11.0</td>\n",
       "      <td>11.0</td>\n",
       "      <td>5.0</td>\n",
       "      <td>4.0</td>\n",
       "      <td>10.0</td>\n",
       "      <td>9.0</td>\n",
       "    </tr>\n",
       "    <tr>\n",
       "      <th>1093</th>\n",
       "      <td>11.0</td>\n",
       "      <td>11.0</td>\n",
       "      <td>11.0</td>\n",
       "      <td>11.0</td>\n",
       "      <td>11.0</td>\n",
       "      <td>11.0</td>\n",
       "    </tr>\n",
       "    <tr>\n",
       "      <th>1094</th>\n",
       "      <td>30.0</td>\n",
       "      <td>30.0</td>\n",
       "      <td>27.0</td>\n",
       "      <td>24.0</td>\n",
       "      <td>16.0</td>\n",
       "      <td>17.0</td>\n",
       "    </tr>\n",
       "    <tr>\n",
       "      <th>1095</th>\n",
       "      <td>19.0</td>\n",
       "      <td>18.0</td>\n",
       "      <td>18.0</td>\n",
       "      <td>15.0</td>\n",
       "      <td>12.0</td>\n",
       "      <td>12.0</td>\n",
       "    </tr>\n",
       "    <tr>\n",
       "      <th>1096</th>\n",
       "      <td>3.0</td>\n",
       "      <td>3.0</td>\n",
       "      <td>3.0</td>\n",
       "      <td>2.0</td>\n",
       "      <td>0.0</td>\n",
       "      <td>0.0</td>\n",
       "    </tr>\n",
       "    <tr>\n",
       "      <th>1097</th>\n",
       "      <td>8.0</td>\n",
       "      <td>8.0</td>\n",
       "      <td>8.0</td>\n",
       "      <td>7.0</td>\n",
       "      <td>5.0</td>\n",
       "      <td>6.0</td>\n",
       "    </tr>\n",
       "    <tr>\n",
       "      <th>1098</th>\n",
       "      <td>7.0</td>\n",
       "      <td>7.0</td>\n",
       "      <td>4.0</td>\n",
       "      <td>3.0</td>\n",
       "      <td>5.0</td>\n",
       "      <td>5.0</td>\n",
       "    </tr>\n",
       "    <tr>\n",
       "      <th>1099</th>\n",
       "      <td>7.0</td>\n",
       "      <td>5.0</td>\n",
       "      <td>6.0</td>\n",
       "      <td>3.0</td>\n",
       "      <td>1.0</td>\n",
       "      <td>1.0</td>\n",
       "    </tr>\n",
       "    <tr>\n",
       "      <th>1100</th>\n",
       "      <td>19.0</td>\n",
       "      <td>19.0</td>\n",
       "      <td>18.0</td>\n",
       "      <td>18.0</td>\n",
       "      <td>19.0</td>\n",
       "      <td>19.0</td>\n",
       "    </tr>\n",
       "    <tr>\n",
       "      <th>1101</th>\n",
       "      <td>30.0</td>\n",
       "      <td>30.0</td>\n",
       "      <td>22.0</td>\n",
       "      <td>23.0</td>\n",
       "      <td>17.0</td>\n",
       "      <td>17.0</td>\n",
       "    </tr>\n",
       "    <tr>\n",
       "      <th>1102</th>\n",
       "      <td>3.0</td>\n",
       "      <td>3.0</td>\n",
       "      <td>3.0</td>\n",
       "      <td>2.0</td>\n",
       "      <td>2.0</td>\n",
       "      <td>2.0</td>\n",
       "    </tr>\n",
       "    <tr>\n",
       "      <th>1103</th>\n",
       "      <td>10.0</td>\n",
       "      <td>11.0</td>\n",
       "      <td>6.0</td>\n",
       "      <td>4.0</td>\n",
       "      <td>6.0</td>\n",
       "      <td>7.0</td>\n",
       "    </tr>\n",
       "    <tr>\n",
       "      <th>1104</th>\n",
       "      <td>10.0</td>\n",
       "      <td>10.0</td>\n",
       "      <td>6.0</td>\n",
       "      <td>3.0</td>\n",
       "      <td>6.0</td>\n",
       "      <td>6.0</td>\n",
       "    </tr>\n",
       "    <tr>\n",
       "      <th>1105</th>\n",
       "      <td>7.0</td>\n",
       "      <td>5.0</td>\n",
       "      <td>6.0</td>\n",
       "      <td>3.0</td>\n",
       "      <td>1.0</td>\n",
       "      <td>1.0</td>\n",
       "    </tr>\n",
       "    <tr>\n",
       "      <th>1106</th>\n",
       "      <td>3.0</td>\n",
       "      <td>3.0</td>\n",
       "      <td>3.0</td>\n",
       "      <td>2.0</td>\n",
       "      <td>0.0</td>\n",
       "      <td>0.0</td>\n",
       "    </tr>\n",
       "    <tr>\n",
       "      <th>1107</th>\n",
       "      <td>8.0</td>\n",
       "      <td>8.0</td>\n",
       "      <td>8.0</td>\n",
       "      <td>7.0</td>\n",
       "      <td>5.0</td>\n",
       "      <td>6.0</td>\n",
       "    </tr>\n",
       "    <tr>\n",
       "      <th>1108</th>\n",
       "      <td>3.0</td>\n",
       "      <td>4.0</td>\n",
       "      <td>3.0</td>\n",
       "      <td>2.0</td>\n",
       "      <td>4.0</td>\n",
       "      <td>4.0</td>\n",
       "    </tr>\n",
       "    <tr>\n",
       "      <th>1109</th>\n",
       "      <td>10.0</td>\n",
       "      <td>11.0</td>\n",
       "      <td>6.0</td>\n",
       "      <td>4.0</td>\n",
       "      <td>6.0</td>\n",
       "      <td>7.0</td>\n",
       "    </tr>\n",
       "    <tr>\n",
       "      <th>1110</th>\n",
       "      <td>19.0</td>\n",
       "      <td>19.0</td>\n",
       "      <td>18.0</td>\n",
       "      <td>18.0</td>\n",
       "      <td>19.0</td>\n",
       "      <td>19.0</td>\n",
       "    </tr>\n",
       "  </tbody>\n",
       "</table>\n",
       "<p>1111 rows × 6 columns</p>\n",
       "</div>"
      ],
      "text/plain": [
       "      number_of_ticket  number_of_ticket  number_of_ticket  number_of_ticket  \\\n",
       "0                  5.0               5.0               3.0               2.0   \n",
       "1                  6.0               7.0               7.0               7.0   \n",
       "2                  1.0               1.0               2.0               2.0   \n",
       "3                 10.0               9.0              10.0              10.0   \n",
       "4                 10.0              10.0              10.0              10.0   \n",
       "5                  4.0               5.0               2.0               2.0   \n",
       "6                 10.0               9.0               9.0               9.0   \n",
       "7                  7.0               6.0               6.0               6.0   \n",
       "8                  9.0               9.0               9.0               9.0   \n",
       "9                  9.0               9.0               9.0               9.0   \n",
       "10                 2.0               3.0               2.0               2.0   \n",
       "11                 9.0               9.0               9.0               9.0   \n",
       "12                 5.0               5.0               3.0               2.0   \n",
       "13                 9.0               9.0               9.0               9.0   \n",
       "14                10.0              10.0              10.0               9.0   \n",
       "15                10.0              10.0              10.0              10.0   \n",
       "16                 1.0               2.0               2.0               4.0   \n",
       "17                10.0               9.0               9.0               9.0   \n",
       "18                 9.0               9.0               9.0               9.0   \n",
       "19                 7.0               8.0               4.0               3.0   \n",
       "20                 8.0               8.0               8.0               9.0   \n",
       "21                 5.0               6.0               5.0               6.0   \n",
       "22                 8.0               7.0               8.0               8.0   \n",
       "23                 5.0               5.0               3.0               2.0   \n",
       "24                 6.0               5.0               5.0               5.0   \n",
       "25                 2.0               3.0               2.0               2.0   \n",
       "26                 1.0               1.0               2.0               2.0   \n",
       "27                 1.0               1.0               2.0               2.0   \n",
       "28                12.0              12.0              11.0              11.0   \n",
       "29                 2.0               1.0               2.0               2.0   \n",
       "...                ...               ...               ...               ...   \n",
       "1081               3.0               3.0               3.0               2.0   \n",
       "1082               3.0               3.0               3.0               2.0   \n",
       "1083              19.0              18.0              18.0              15.0   \n",
       "1084               2.0               2.0               2.0               2.0   \n",
       "1085              19.0              19.0              18.0              18.0   \n",
       "1086              30.0              30.0              22.0              23.0   \n",
       "1087               8.0               8.0               8.0               7.0   \n",
       "1088              23.0              22.0              24.0              18.0   \n",
       "1089               7.0               7.0               4.0               3.0   \n",
       "1090               9.0              10.0               8.0               9.0   \n",
       "1091              13.0              13.0              12.0              11.0   \n",
       "1092              11.0              11.0               5.0               4.0   \n",
       "1093              11.0              11.0              11.0              11.0   \n",
       "1094              30.0              30.0              27.0              24.0   \n",
       "1095              19.0              18.0              18.0              15.0   \n",
       "1096               3.0               3.0               3.0               2.0   \n",
       "1097               8.0               8.0               8.0               7.0   \n",
       "1098               7.0               7.0               4.0               3.0   \n",
       "1099               7.0               5.0               6.0               3.0   \n",
       "1100              19.0              19.0              18.0              18.0   \n",
       "1101              30.0              30.0              22.0              23.0   \n",
       "1102               3.0               3.0               3.0               2.0   \n",
       "1103              10.0              11.0               6.0               4.0   \n",
       "1104              10.0              10.0               6.0               3.0   \n",
       "1105               7.0               5.0               6.0               3.0   \n",
       "1106               3.0               3.0               3.0               2.0   \n",
       "1107               8.0               8.0               8.0               7.0   \n",
       "1108               3.0               4.0               3.0               2.0   \n",
       "1109              10.0              11.0               6.0               4.0   \n",
       "1110              19.0              19.0              18.0              18.0   \n",
       "\n",
       "      number_of_ticket  number_of_ticket  \n",
       "0                  6.0               6.0  \n",
       "1                  6.0               8.0  \n",
       "2                  2.0               2.0  \n",
       "3                  8.0               8.0  \n",
       "4                  9.0               9.0  \n",
       "5                  5.0               5.0  \n",
       "6                  8.0               8.0  \n",
       "7                  9.0               9.0  \n",
       "8                  9.0               8.0  \n",
       "9                  9.0               8.0  \n",
       "10                 1.0               1.0  \n",
       "11                 8.0               8.0  \n",
       "12                 6.0               6.0  \n",
       "13                 8.0               8.0  \n",
       "14                 9.0               9.0  \n",
       "15                 9.0               9.0  \n",
       "16                 1.0               1.0  \n",
       "17                 5.0               5.0  \n",
       "18                 5.0               5.0  \n",
       "19                 6.0               7.0  \n",
       "20                 6.0               7.0  \n",
       "21                 5.0               6.0  \n",
       "22                 7.0               7.0  \n",
       "23                 6.0               6.0  \n",
       "24                 6.0               6.0  \n",
       "25                 4.0               5.0  \n",
       "26                 4.0               3.0  \n",
       "27                 2.0               2.0  \n",
       "28                14.0              15.0  \n",
       "29                 4.0               4.0  \n",
       "...                ...               ...  \n",
       "1081               0.0               0.0  \n",
       "1082               2.0               2.0  \n",
       "1083              12.0              12.0  \n",
       "1084               2.0               2.0  \n",
       "1085              19.0              19.0  \n",
       "1086              17.0              17.0  \n",
       "1087               5.0               6.0  \n",
       "1088              21.0              20.0  \n",
       "1089               5.0               5.0  \n",
       "1090               6.0               6.0  \n",
       "1091               8.0               8.0  \n",
       "1092              10.0               9.0  \n",
       "1093              11.0              11.0  \n",
       "1094              16.0              17.0  \n",
       "1095              12.0              12.0  \n",
       "1096               0.0               0.0  \n",
       "1097               5.0               6.0  \n",
       "1098               5.0               5.0  \n",
       "1099               1.0               1.0  \n",
       "1100              19.0              19.0  \n",
       "1101              17.0              17.0  \n",
       "1102               2.0               2.0  \n",
       "1103               6.0               7.0  \n",
       "1104               6.0               6.0  \n",
       "1105               1.0               1.0  \n",
       "1106               0.0               0.0  \n",
       "1107               5.0               6.0  \n",
       "1108               4.0               4.0  \n",
       "1109               6.0               7.0  \n",
       "1110              19.0              19.0  \n",
       "\n",
       "[1111 rows x 6 columns]"
      ]
     },
     "execution_count": 307,
     "metadata": {},
     "output_type": "execute_result"
    }
   ],
   "source": [
    "\n",
    "combine_pred=[]\n",
    "\n",
    "for i in range(len(df)):\n",
    "    if i%2!=0 :\n",
    "        combine_pred.append(df[i].drop(['ride_id'],axis=1))\n",
    "        combine_pred.append(df_[i].drop(['ride_id'],axis=1))\n",
    "pd.concat(combine_pred,axis=1,sort=False)"
   ]
  },
  {
   "cell_type": "markdown",
   "metadata": {
    "collapsed": true
   },
   "source": [
    "### References\n",
    "\n",
    "[Selecting the best Machine Learning algorithm for your regression problem](https://towardsdatascience.com/selecting-the-best-machine-learning-algorithm-for-your-regression-problem-20c330bad4ef)\n",
    "\n",
    "[A Tour of The Top 10 Algorithms for Machine Learning Newbies](https://medium.com/usf-msds/choosing-the-right-metric-for-machine-learning-models-part-1-a99d7d7414e4)\n",
    "\n",
    "[Regression vs. Classification Algorithms](https://www.datascience.com/blog/regression-and-classification-machine-learning-algorithms)\n",
    "\n",
    "\n",
    "[3.2.4.3.2. sklearn.ensemble.RandomForestRegressor — scikit-learn 0.20.2 documentation](https://scikit-learn.org/stable/modules/tree.html)\n",
    "\n",
    "[Choosing the Right Metric for Evaluating Machine Learning Models — Part 1](https://towardsdatascience.com/a-tour-of-the-top-10-algorithms-for-machine-learning-newbies-dde4edffae11)\n"
   ]
  },
  {
   "cell_type": "code",
   "execution_count": null,
   "metadata": {
    "collapsed": true
   },
   "outputs": [],
   "source": []
  }
 ],
 "metadata": {
  "kernelspec": {
   "display_name": "Python 3",
   "language": "python",
   "name": "python3"
  },
  "language_info": {
   "codemirror_mode": {
    "name": "ipython",
    "version": 3
   },
   "file_extension": ".py",
   "mimetype": "text/x-python",
   "name": "python",
   "nbconvert_exporter": "python",
   "pygments_lexer": "ipython3",
   "version": "3.5.3"
  }
 },
 "nbformat": 4,
 "nbformat_minor": 2
}
